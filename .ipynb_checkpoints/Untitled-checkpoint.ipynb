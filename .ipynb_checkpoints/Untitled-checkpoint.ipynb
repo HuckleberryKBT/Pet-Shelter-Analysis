{
 "cells": [
  {
   "cell_type": "code",
   "execution_count": 1,
   "id": "40e053db",
   "metadata": {},
   "outputs": [],
   "source": [
    "import pandas as pd\n",
    "import numpy as np\n",
    "intakes = pd.read_csv('aac_intakes.csv')\n",
    "outcomes = pd.read_csv('aac_outcomes.csv')\n",
    "intakes_outcomes = pd.read_csv('aac_intakes_outcomes.csv')"
   ]
  },
  {
   "cell_type": "markdown",
   "id": "d47f681a",
   "metadata": {},
   "source": [
    "# Is there an area where more pets are found?\n",
    "Used the mode function here to find the most common value in the found_location series"
   ]
  },
  {
   "cell_type": "code",
   "execution_count": 159,
   "id": "387211fa",
   "metadata": {},
   "outputs": [],
   "source": [
    "most_common_area = intakes['found_location'].mode()\n",
    "most_common_areas_keys = intakes['found_location'].value_counts().head(5).keys().tolist()\n",
    "most_common_areas = intakes['found_location'].value_counts().head(5).tolist()"
   ]
  },
  {
   "cell_type": "markdown",
   "id": "63f9fd30",
   "metadata": {},
   "source": [
    "*******************************************************\n",
    "> ### Animals are most commonly found in the city of Austin. \n",
    "> The top 5 locations that animals are found:\n",
    ">1. Austin, TX\n",
    ">2. Outside Jurisdiction\n",
    ">3. Travis, TX\n",
    ">4. 7201 Levander Loop in Austin\n",
    ">5. Del Valle, TX\n",
    "*******\n",
    "\n",
    "Idetermined where pets are found most by using the mode method on the 'found location' column.\n",
    "I used the value_counts method along with the head method to get the top 5 most common values in the 'found location' column\n"
   ]
  },
  {
   "cell_type": "markdown",
   "id": "8f840954",
   "metadata": {},
   "source": [
    "# What is the average number of pets found in a month in the year 2015? Are there months where there is a higher number of animals found?"
   ]
  },
  {
   "cell_type": "code",
   "execution_count": 164,
   "id": "b679cfd0",
   "metadata": {},
   "outputs": [
    {
     "name": "stdout",
     "output_type": "stream",
     "text": [
      "6     2189\n",
      "5     2094\n",
      "10    1740\n",
      "8     1718\n",
      "7     1635\n",
      "9     1591\n",
      "4     1543\n",
      "11    1411\n",
      "3     1346\n",
      "1     1198\n",
      "12    1128\n",
      "2     1119\n",
      "Name: datetime, dtype: int64\n"
     ]
    }
   ],
   "source": [
    "intakes['datetime'] = pd.to_datetime(intakes['datetime'])\n",
    "intakes['datetime2'] = pd.to_datetime(intakes['datetime2'])\n",
    "sum_total_intakes_2015 = (intakes['datetime'].dt.year == 2015).sum()\n",
    "## avg nymber of intakes per month\n",
    "avg_per_month = (sum_total_intakes_2015/12)\n",
    "\n",
    "\n",
    "total_intakes_2015 = intakes.loc[intakes['datetime'].dt.year == 2015]\n",
    "months = total_intakes_2015['datetime'].dt.month.value_counts().sort_values(ascending=False)\n"
   ]
  },
  {
   "cell_type": "markdown",
   "id": "46e65fd6",
   "metadata": {},
   "source": [
    "*****\n",
    "> ### The average number of pets found per month in 2015 was 1559.0, with May, June, & October being the busiest months\n",
    "******\n",
    "\n",
    "Cleaned datetime columns. Queried intakes by year 2015 and used sum method to get the total. To get the average number per month I divided the annual intake by 12. "
   ]
  },
  {
   "cell_type": "markdown",
   "id": "f5a1ddaf",
   "metadata": {},
   "source": [
    "# What is the ratio of incoming pets vs. adopted pets?"
   ]
  },
  {
   "cell_type": "code",
   "execution_count": 4,
   "id": "bd312193",
   "metadata": {},
   "outputs": [
    {
     "name": "stdout",
     "output_type": "stream",
     "text": [
      "********\n",
      "42.69% of incoming pets result in adoption.\n",
      "********\n"
     ]
    }
   ],
   "source": [
    "adopted_count = (outcomes['outcome_type'] == 'Adoption').sum()\n",
    "intakes_count = len(intakes)\n",
    "ratio = (adopted_count/intakes_count).round(4) \n",
    "ratio = ratio * 100\n",
    "print(f'********\\n{ratio}% of incoming pets result in adoption.\\n********')"
   ]
  },
  {
   "cell_type": "markdown",
   "id": "3f7f8355",
   "metadata": {},
   "source": [
    "# What is the distribution of the types of animals in the shelter?"
   ]
  },
  {
   "cell_type": "code",
   "execution_count": 5,
   "id": "a5f2d3f6",
   "metadata": {},
   "outputs": [
    {
     "name": "stdout",
     "output_type": "stream",
     "text": [
      "'\n",
      "***************************\n",
      "Animal Distribution by type\n",
      "***************************\n",
      "Type - Quantity - Percent\n",
      "\n",
      "--------------------\n",
      "Dog - 45743 - 57.05%\n",
      "--------------------\n",
      "Cat - 29659 - 36.99%\n",
      "--------------------\n",
      "Other - 4434 - 5.53%\n",
      "--------------------\n",
      "Bird - 342 - 0.43%\n",
      "--------------------\n",
      "Livestock - 9 - 0.01%\n"
     ]
    }
   ],
   "source": [
    "total_animals = len(intakes)\n",
    "# What you're looking for\n",
    "keys = intakes['animal_type'].value_counts().keys().tolist()\n",
    "values = intakes['animal_type'].value_counts()\n",
    "animal_ratio = (values.divide(total_animals) * 100).round(2)\n",
    "print(f''''\n",
    "***************************\n",
    "Animal Distribution by type\n",
    "***************************\n",
    "Type - Quantity - Percent\n",
    "''')\n",
    "for i,row in enumerate(keys):\n",
    "    print('--------------------')\n",
    "    print(f'{row} - {values[i]} - {animal_ratio[i]}%')"
   ]
  },
  {
   "cell_type": "markdown",
   "id": "b6cf2d24",
   "metadata": {},
   "source": [
    "# What are the adoption rates for specific breeds? "
   ]
  },
  {
   "cell_type": "code",
   "execution_count": 6,
   "id": "0861d187",
   "metadata": {},
   "outputs": [
    {
     "name": "stdout",
     "output_type": "stream",
     "text": [
      "'\n",
      "***************************\n",
      "Adoption rates by breed\n",
      "***************************\n",
      "Breed - Quantity - Percentage\n",
      "\n",
      "--------------------\n",
      "Domestic Shorthair Mix - 10129 - 29.59%\n",
      "--------------------\n",
      "Labrador Retriever Mix - 2404 - 7.02%\n",
      "--------------------\n",
      "Pit Bull Mix - 2382 - 6.96%\n",
      "--------------------\n",
      "Chihuahua Shorthair Mix - 2293 - 6.7%\n",
      "--------------------\n",
      "Domestic Medium Hair Mix - 1067 - 3.12%\n"
     ]
    }
   ],
   "source": [
    "adoptions = outcomes.loc[outcomes['outcome_type'] == 'Adoption']\n",
    "breeds_adopted = adoptions['breed'].value_counts().head(5).keys()\n",
    "qty_adoptions_per_breed = adoptions['breed'].value_counts().head(5)\n",
    "adoption_ratio_by_breed = (qty_adoptions_per_breed/len(adoptions) * 100).round(2)\n",
    "\n",
    "print(f''''\n",
    "***************************\n",
    "Adoption rates by breed\n",
    "***************************\n",
    "Breed - Quantity - Percentage\n",
    "''')\n",
    "for i,row in enumerate(breeds_adopted):\n",
    "    print('--------------------')\n",
    "    print(f'{row} - {qty_adoptions_per_breed[i]} - {adoption_ratio_by_breed[i]}%')\n"
   ]
  },
  {
   "cell_type": "markdown",
   "id": "fade946b",
   "metadata": {},
   "source": [
    "# What are the  adoption rates for different colorings? "
   ]
  },
  {
   "cell_type": "code",
   "execution_count": 7,
   "id": "59c6658f",
   "metadata": {},
   "outputs": [
    {
     "name": "stdout",
     "output_type": "stream",
     "text": [
      "'\n",
      "***************************\n",
      "Adoption rates by breed\n",
      "***************************\n",
      "Breed - Quantity - Percentage\n",
      "\n",
      "--------------------\n",
      "Black/White - 3814 - 11.14%\n",
      "--------------------\n",
      "Black - 2757 - 8.05%\n",
      "--------------------\n",
      "Brown Tabby - 1914 - 5.59%\n",
      "--------------------\n",
      "Tan/White - 1179 - 3.44%\n",
      "--------------------\n",
      "Brown/White - 1135 - 3.32%\n"
     ]
    }
   ],
   "source": [
    "adoptions_by_coloring = adoptions['color'].value_counts().head(5).keys()\n",
    "qty_adoptions_per_color = adoptions['color'].value_counts().head(5)\n",
    "adoption_ratio_by_color = (qty_adoptions_per_color/len(adoptions) * 100).round(2)\n",
    "\n",
    "print(f''''\n",
    "***************************\n",
    "Adoption rates by breed\n",
    "***************************\n",
    "Breed - Quantity - Percentage\n",
    "''')\n",
    "for i,row in enumerate(adoptions_by_coloring):\n",
    "    print('--------------------')\n",
    "    print(f'{row} - {qty_adoptions_per_color[i]} - {adoption_ratio_by_color[i]}%')"
   ]
  },
  {
   "cell_type": "markdown",
   "id": "bd670a04",
   "metadata": {},
   "source": [
    "# About how many animals are spayed/neutered each month? \n"
   ]
  },
  {
   "cell_type": "code",
   "execution_count": 80,
   "id": "145bd8f7",
   "metadata": {},
   "outputs": [
    {
     "name": "stdout",
     "output_type": "stream",
     "text": [
      "\n",
      "************************\n",
      "Over the last 6 years, the Austin Animal Hospital spayed or neutered 685.0 animals per month on average.\n",
      "*************************\n",
      "\n"
     ]
    }
   ],
   "source": [
    "intact_intakes = len(intakes.loc[(intakes['sex_upon_intake'] == 'Intact Female') | (intakes['sex_upon_intake'] == 'Intact Male')])\n",
    "years = len(intakes['datetime'].dt.year.unique())\n",
    "avg_yearly_procedures = np.round(intact_intakes/years)\n",
    "avg_monthly_procedures = np.round(avg_yearly_procedures/12)\n",
    "print(f'''\n",
    "************************\n",
    "Over the last {years} years, the Austin Animal Hospital spayed or neutered {avg_monthly_procedures} animals per month on average.\n",
    "*************************\n",
    "''')\n"
   ]
  },
  {
   "cell_type": "markdown",
   "id": "ad5db129",
   "metadata": {},
   "source": [
    "# How many animals in the shelter are repeats? Which animal was returned to the shelter the most?"
   ]
  },
  {
   "cell_type": "code",
   "execution_count": 9,
   "id": "8eb0a7fd",
   "metadata": {},
   "outputs": [
    {
     "name": "stdout",
     "output_type": "stream",
     "text": [
      "\n",
      "************************\n",
      "There are 7822 animals that are repeat visitors.\n",
      "\n",
      "The shelters frequent flyer is:\n",
      "\n",
      "Pets name: Lil Bit\n",
      "Breed: Rat Terrier Mix\n",
      "Color: Tricolor/Brown Brindle\n",
      "*************************\n",
      "\n"
     ]
    }
   ],
   "source": [
    "unique_animals = len(intakes['animal_id'].unique())\n",
    "total_intakes = len(intakes)\n",
    "repeat_animals = total_intakes - unique_animals\n",
    "\n",
    "most_common_animal_id = intakes['animal_id'].value_counts().head(1).keys().tolist()\n",
    "most_common_animal = intakes.loc[intakes['animal_id'] == most_common_animal_id[0]].head(1)\n",
    "\n",
    "\n",
    "print(f'''\n",
    "************************\n",
    "There are {repeat_animals} animals that are repeat visitors.\\n\\nThe shelters frequent flyer is:\\n\n",
    "Pets name: {most_common_animal['name'].to_string(index=False)}\n",
    "Breed: {most_common_animal['breed'].to_string(index=False)}\n",
    "Color: {most_common_animal['color'].to_string(index=False)}\n",
    "*************************\n",
    "''')\n"
   ]
  },
  {
   "cell_type": "markdown",
   "id": "ddc1c940",
   "metadata": {},
   "source": [
    " # What are the adoption rates for the following age groups?\n",
    "     baby: 4 months and less\n",
    "    young: 5 months - 2 years\n",
    "    adult: 3 years - 10 years\n",
    "    senior: 11+"
   ]
  },
  {
   "cell_type": "code",
   "execution_count": 153,
   "id": "1d9b4ecc",
   "metadata": {},
   "outputs": [
    {
     "name": "stdout",
     "output_type": "stream",
     "text": [
      "\n",
      "***********\n",
      "Adoption by age group\n",
      "***********************\n",
      "0 - 4 months: 37.0%\n",
      "5 months - 2 years: 43.0%\n",
      "3 years - 10 years: 18.0%\n",
      "11 years+: 1.0%\n",
      "\n"
     ]
    }
   ],
   "source": [
    "age_keys = adoptions['age_upon_outcome'].value_counts().keys().tolist()\n",
    "age_at_adoption = adoptions['age_upon_outcome'].value_counts().to_list()\n",
    "age_in_months = []\n",
    "baby = 0\n",
    "young = 0\n",
    "adult = 0\n",
    "senior = 0\n",
    "unknown = 0\n",
    "\n",
    "for item in age_keys:\n",
    "    split_str = item.split(' ')\n",
    "    months = int(split_str[0])\n",
    "    if 'year' in split_str[1]:\n",
    "        age_in_months.append(months * 12)\n",
    "    else:\n",
    "        age_in_months.append(months)\n",
    "\n",
    "for i,row in enumerate(age_in_months):\n",
    "    if row == 0:\n",
    "        unknown += age_at_adoption[i]\n",
    "    elif row <= 4:\n",
    "        baby += age_at_adoption[i]\n",
    "        # went to 35 months here to include animals up to the age of 2 years 11 months\n",
    "    elif row >=5 and row <= 35:\n",
    "        young +=  age_at_adoption[i]\n",
    "        # went to 131 months here to include animals up to the age of 10 years 11 months\n",
    "    elif row >= 36 and row <= 131:\n",
    "        adult += age_at_adoption[i]\n",
    "    elif row >= 132:\n",
    "        senior += age_at_adoption[i]\n",
    "baby,young,adult,senior,unknown\n",
    "baby_ratio = np.round(baby/len(adoptions)*100)\n",
    "young_ratio = np.round(young/len(adoptions)*100)\n",
    "adult_ratio = np.round(adult/len(adoptions)*100)\n",
    "senior_ratio = np.round(senior/len(adoptions)*100)\n",
    "unknown_ratio = np.round(unknown/len(adoptions)*100)\n",
    "print(f'''\n",
    "***********\n",
    "Adoption by age group\n",
    "***********************\n",
    "0 - 4 months: {baby_ratio}%\n",
    "5 months - 2 years: {young_ratio}%\n",
    "3 years - 10 years: {adult_ratio}%\n",
    "11 years+: {senior_ratio}%\n",
    "''')"
   ]
  },
  {
   "cell_type": "markdown",
   "id": "3fd4b64d",
   "metadata": {},
   "source": [
    "# If spay/neuter for a dog costs 100 and a spay/neuter for a cat costs 50, how much did the shelter spend in 2015 on these procedures?"
   ]
  },
  {
   "cell_type": "code",
   "execution_count": 60,
   "id": "0da4342d",
   "metadata": {},
   "outputs": [
    {
     "name": "stdout",
     "output_type": "stream",
     "text": [
      "\n",
      "************************\n",
      "The Austin Animal Hospital spent $863250 on spay/neuter procedures in 2015.\n",
      "*************************\n",
      "\n"
     ]
    }
   ],
   "source": [
    "total_procedures_2015 = total_intakes_2015.loc[(total_intakes_2015['sex_upon_intake'] == 'Intact Male') | (total_intakes_2015['sex_upon_intake'] == 'Intact Female')  ]\n",
    "dogs = total_procedures_2015.loc[total_procedures_2015['animal_type'] == 'Dog']\n",
    "cats = total_procedures_2015.loc[total_procedures_2015['animal_type'] == 'Cat']\n",
    "dogs_cost = len(dogs) * 100\n",
    "cats_cost = len(cats) * 50\n",
    "total_procedures_cost_2015 = dogs_cost + cats_cost\n",
    "total_procedures_cost_2015\n",
    "print(f'''\n",
    "************************\n",
    "The Austin Animal Hospital spent ${total_procedures_cost_2015} on spay/neuter procedures in 2015.\n",
    "*************************\n",
    "''')"
   ]
  }
 ],
 "metadata": {
  "kernelspec": {
   "display_name": "Python 3 (ipykernel)",
   "language": "python",
   "name": "python3"
  },
  "language_info": {
   "codemirror_mode": {
    "name": "ipython",
    "version": 3
   },
   "file_extension": ".py",
   "mimetype": "text/x-python",
   "name": "python",
   "nbconvert_exporter": "python",
   "pygments_lexer": "ipython3",
   "version": "3.9.13"
  }
 },
 "nbformat": 4,
 "nbformat_minor": 5
}
