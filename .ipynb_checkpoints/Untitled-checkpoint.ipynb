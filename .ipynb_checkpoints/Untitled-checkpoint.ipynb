{
 "cells": [
  {
   "cell_type": "code",
   "execution_count": 1,
   "id": "40e053db",
   "metadata": {},
   "outputs": [],
   "source": [
    "import pandas as pd\n",
    "import numpy as np\n",
    "intakes = pd.read_csv('aac_intakes.csv')\n",
    "outcomes = pd.read_csv('aac_outcomes.csv')\n",
    "intakes_outcomes = pd.read_csv('aac_intakes_outcomes.csv')"
   ]
  },
  {
   "cell_type": "markdown",
   "id": "d47f681a",
   "metadata": {},
   "source": [
    "# Is there an area where more pets are found?\n",
    "Used the mode function here to find the most common value in the found_location series"
   ]
  },
  {
   "cell_type": "code",
   "execution_count": 49,
   "id": "387211fa",
   "metadata": {},
   "outputs": [
    {
     "name": "stdout",
     "output_type": "stream",
     "text": [
      "\n",
      "Animals are most commonly found in the city of Austin (TX).\n",
      "\n",
      "****************\n",
      "The top 5 locations we find pets at in Austin are:\n",
      "****************\n",
      "\n",
      "2501 Wickersham Ln in Austin (TX)\n",
      "1154 Nickols Ave. in Austin (TX)\n",
      "4631 Airport Blvd in Austin (TX)\n",
      "2300 Devonshire Dr in Austin (TX)\n",
      "Austin (TX)\n"
     ]
    }
   ],
   "source": [
    "most_common_area = intakes['found_location'].mode()\n",
    "most_common_areas = intakes.loc[intakes['found_location'].value_counts().head(5)]\n",
    "print(f'\\nAnimals are most commonly found in the city of {most_common_area[0]}.\\n')\n",
    "print(f'''****************\n",
    "The top 5 locations we find pets at in Austin are:\n",
    "****************\n",
    "''')\n",
    "for item in most_common_areas['found_location']:\n",
    "    print(item)\n",
    "\n"
   ]
  },
  {
   "cell_type": "markdown",
   "id": "8f840954",
   "metadata": {},
   "source": [
    "# What is the average number of pets found in a month in the year 2015? Are there months where there is a higher number of animals found?"
   ]
  },
  {
   "cell_type": "code",
   "execution_count": 51,
   "id": "b679cfd0",
   "metadata": {},
   "outputs": [
    {
     "name": "stdout",
     "output_type": "stream",
     "text": [
      "\n",
      "*****************\n",
      "The average number of pets found per month in 2015 was 1559.0, with May, June, & October\n",
      "being the busiest months\n",
      "*****************\n"
     ]
    }
   ],
   "source": [
    "intakes['datetime'] = pd.to_datetime(intakes['datetime'])\n",
    "intakes['datetime2'] = pd.to_datetime(intakes['datetime2'])\n",
    "sum_total_intakes_2015 = (intakes['datetime'].dt.year == 2015).sum()\n",
    "## avg nymber of intakes per month\n",
    "avg_per_month = (sum_total_intakes_2015/12)\n",
    "\n",
    "\n",
    "total_intakes_2015 = intakes.loc[intakes['datetime'].dt.year == 2015]\n",
    "months = total_intakes_2015['datetime'].dt.month.value_counts().sort_values(ascending=False)\n",
    "\n",
    "print(f'''\\n*****************\n",
    "The average number of pets found per month in 2015 was {avg_per_month.round(0)}, with May, June, & October\n",
    "being the busiest months\\n*****************''')\n"
   ]
  },
  {
   "cell_type": "markdown",
   "id": "f5a1ddaf",
   "metadata": {},
   "source": [
    "# What is the ratio of incoming pets vs. adopted pets?"
   ]
  },
  {
   "cell_type": "code",
   "execution_count": 54,
   "id": "bd312193",
   "metadata": {},
   "outputs": [
    {
     "name": "stdout",
     "output_type": "stream",
     "text": [
      "********\n",
      "42.69% of incoming pets result in adoption.\n",
      "********\n"
     ]
    }
   ],
   "source": [
    "adopted_count = (outcomes['outcome_type'] == 'Adoption').sum()\n",
    "intakes_count = len(intakes)\n",
    "ratio = (adopted_count/intakes_count).round(4) \n",
    "ratio = ratio * 100\n",
    "print(f'********\\n{ratio}% of incoming pets result in adoption.\\n********')"
   ]
  },
  {
   "cell_type": "markdown",
   "id": "3f7f8355",
   "metadata": {},
   "source": [
    "# What is the distribution of the types of animals in the shelter?"
   ]
  },
  {
   "cell_type": "code",
   "execution_count": 15,
   "id": "9e75a3e6",
   "metadata": {},
   "outputs": [
    {
     "name": "stdout",
     "output_type": "stream",
     "text": [
      "'\n",
      "***************************\n",
      "Animal Distribution by type\n",
      "***************************\n",
      "Type - Quantity - Percent\n",
      "\n",
      "--------------------\n",
      "Dog - 45743 - 57.05%\n",
      "--------------------\n",
      "Cat - 29659 - 36.99%\n",
      "--------------------\n",
      "Other - 4434 - 5.53%\n",
      "--------------------\n",
      "Bird - 342 - 0.43%\n",
      "--------------------\n",
      "Livestock - 9 - 0.01%\n"
     ]
    }
   ],
   "source": [
    "total_animals = len(intakes)\n",
    "# What you're looking for\n",
    "keys = intakes['animal_type'].value_counts().keys().tolist()\n",
    "values = intakes['animal_type'].value_counts()\n",
    "animal_ratio = (values.divide(total_animals) * 100).round(2)\n",
    "print(f''''\n",
    "***************************\n",
    "Animal Distribution by type\n",
    "***************************\n",
    "Type - Quantity - Percent\n",
    "''')\n",
    "for i,row in enumerate(keys):\n",
    "    print('--------------------')\n",
    "    print(f'{row} - {values[i]} - {animal_ratio[i]}%')"
   ]
  },
  {
   "cell_type": "markdown",
   "id": "b6cf2d24",
   "metadata": {},
   "source": [
    "# What are the adoption rates for specific breeds? "
   ]
  },
  {
   "cell_type": "code",
   "execution_count": 86,
   "id": "ad8d0993",
   "metadata": {},
   "outputs": [
    {
     "name": "stdout",
     "output_type": "stream",
     "text": [
      "'\n",
      "***************************\n",
      "Adoption rates by breed\n",
      "***************************\n",
      "Breed - Quantity - Percentage\n",
      "\n",
      "--------------------\n",
      "Domestic Shorthair Mix - 10129 - 29.59%\n",
      "--------------------\n",
      "Labrador Retriever Mix - 2404 - 7.02%\n",
      "--------------------\n",
      "Pit Bull Mix - 2382 - 6.96%\n",
      "--------------------\n",
      "Chihuahua Shorthair Mix - 2293 - 6.7%\n",
      "--------------------\n",
      "Domestic Medium Hair Mix - 1067 - 3.12%\n"
     ]
    }
   ],
   "source": [
    "adoptions = outcomes.loc[outcomes['outcome_type'] == 'Adoption']\n",
    "breeds_adopted = adoptions['breed'].value_counts().head(5).keys()\n",
    "qty_adoptions_per_breed = adoptions['breed'].value_counts().head(5)\n",
    "adoption_ratio_by_breed = (qty_adoptions_per_breed/len(adoptions) * 100).round(2)\n",
    "\n",
    "print(f''''\n",
    "***************************\n",
    "Adoption rates by breed\n",
    "***************************\n",
    "Breed - Quantity - Percentage\n",
    "''')\n",
    "for i,row in enumerate(breeds_adopted):\n",
    "    print('--------------------')\n",
    "    print(f'{row} - {qty_adoptions_per_breed[i]} - {adoption_ratio_by_breed[i]}%')"
   ]
  },
  {
   "cell_type": "markdown",
   "id": "fade946b",
   "metadata": {},
   "source": [
    "# What are the  adoption rates for different colorings? "
   ]
  },
  {
   "cell_type": "code",
   "execution_count": 92,
   "id": "deeea427",
   "metadata": {},
   "outputs": [
    {
     "name": "stdout",
     "output_type": "stream",
     "text": [
      "'\n",
      "***************************\n",
      "Adoption rates by breed\n",
      "***************************\n",
      "Breed - Quantity - Percentage\n",
      "\n",
      "--------------------\n",
      "Black/White - 3814 - 11.14%\n",
      "--------------------\n",
      "Black - 2757 - 8.05%\n",
      "--------------------\n",
      "Brown Tabby - 1914 - 5.59%\n",
      "--------------------\n",
      "Tan/White - 1179 - 3.44%\n",
      "--------------------\n",
      "Brown/White - 1135 - 3.32%\n"
     ]
    }
   ],
   "source": [
    "adoptions_by_coloring = adoptions['color'].value_counts().head(5).keys()\n",
    "qty_adoptions_per_color = adoptions['color'].value_counts().head(5)\n",
    "adoption_ratio_by_color = (qty_adoptions_per_color/len(adoptions) * 100).round(2)\n",
    "\n",
    "print(f''''\n",
    "***************************\n",
    "Adoption rates by breed\n",
    "***************************\n",
    "Breed - Quantity - Percentage\n",
    "''')\n",
    "for i,row in enumerate(adoptions_by_coloring):\n",
    "    print('--------------------')\n",
    "    print(f'{row} - {qty_adoptions_per_color[i]} - {adoption_ratio_by_color[i]}%')"
   ]
  },
  {
   "cell_type": "markdown",
   "id": "bd670a04",
   "metadata": {},
   "source": [
    "# About how many animals are spayed/neutered each month? \n"
   ]
  },
  {
   "cell_type": "code",
   "execution_count": 146,
   "id": "c16ba3e7",
   "metadata": {},
   "outputs": [
    {
     "name": "stdout",
     "output_type": "stream",
     "text": [
      "\n",
      "************************\n",
      "Over the last 6 years, the Austin Animal Hospital spayed or neutered 685.0 animals per month\n",
      "*************************\n",
      "\n"
     ]
    }
   ],
   "source": [
    "intact_intakes = len(intakes.loc[(intakes['sex_upon_intake'] == 'Intact Female') | (intakes['sex_upon_intake'] == 'Intact Male')])\n",
    "years = len(intakes['datetime'].dt.year.unique())\n",
    "avg_yearly_procedures = np.round(intact_intakes/years)\n",
    "avg_monthly_procedures = np.round(avg_yearly_procedures/12)\n",
    "print(f'''\n",
    "************************\n",
    "Over the last {years} years, the Austin Animal Hospital spayed or neutered {avg_monthly_procedures} animals per month\n",
    "*************************\n",
    "''')\n"
   ]
  },
  {
   "cell_type": "markdown",
   "id": "ad5db129",
   "metadata": {},
   "source": [
    "# How many animals in the shelter are repeats? Which animal was returned to the shelter the most?"
   ]
  },
  {
   "cell_type": "code",
   "execution_count": 251,
   "id": "ae5b3c60",
   "metadata": {},
   "outputs": [
    {
     "name": "stdout",
     "output_type": "stream",
     "text": [
      "\n",
      "************************\n",
      "There are 7822 animals that are repeat visitors. The shelters frequent flyer is:\n",
      "\n",
      "Lil Bit\n",
      "6393    Rat Terrier Mix\n",
      "6393    Tricolor/Brown Brindle\n",
      "*************************\n",
      "\n"
     ]
    },
    {
     "data": {
      "text/html": [
       "<div>\n",
       "<style scoped>\n",
       "    .dataframe tbody tr th:only-of-type {\n",
       "        vertical-align: middle;\n",
       "    }\n",
       "\n",
       "    .dataframe tbody tr th {\n",
       "        vertical-align: top;\n",
       "    }\n",
       "\n",
       "    .dataframe thead th {\n",
       "        text-align: right;\n",
       "    }\n",
       "</style>\n",
       "<table border=\"1\" class=\"dataframe\">\n",
       "  <thead>\n",
       "    <tr style=\"text-align: right;\">\n",
       "      <th></th>\n",
       "      <th>age_upon_intake</th>\n",
       "      <th>animal_id</th>\n",
       "      <th>animal_type</th>\n",
       "      <th>breed</th>\n",
       "      <th>color</th>\n",
       "      <th>datetime</th>\n",
       "      <th>datetime2</th>\n",
       "      <th>found_location</th>\n",
       "      <th>intake_condition</th>\n",
       "      <th>intake_type</th>\n",
       "      <th>name</th>\n",
       "      <th>sex_upon_intake</th>\n",
       "    </tr>\n",
       "  </thead>\n",
       "  <tbody>\n",
       "    <tr>\n",
       "      <th>6393</th>\n",
       "      <td>2 years</td>\n",
       "      <td>A721033</td>\n",
       "      <td>Dog</td>\n",
       "      <td>Rat Terrier Mix</td>\n",
       "      <td>Tricolor/Brown Brindle</td>\n",
       "      <td>2018-03-07 08:27:00</td>\n",
       "      <td>2018-03-07 08:27:00</td>\n",
       "      <td>4111 South 1St in Austin (TX)</td>\n",
       "      <td>Normal</td>\n",
       "      <td>Public Assist</td>\n",
       "      <td>Lil Bit</td>\n",
       "      <td>Neutered Male</td>\n",
       "    </tr>\n",
       "  </tbody>\n",
       "</table>\n",
       "</div>"
      ],
      "text/plain": [
       "     age_upon_intake animal_id animal_type            breed  \\\n",
       "6393         2 years   A721033         Dog  Rat Terrier Mix   \n",
       "\n",
       "                       color            datetime           datetime2  \\\n",
       "6393  Tricolor/Brown Brindle 2018-03-07 08:27:00 2018-03-07 08:27:00   \n",
       "\n",
       "                     found_location intake_condition    intake_type     name  \\\n",
       "6393  4111 South 1St in Austin (TX)           Normal  Public Assist  Lil Bit   \n",
       "\n",
       "     sex_upon_intake  \n",
       "6393   Neutered Male  "
      ]
     },
     "execution_count": 251,
     "metadata": {},
     "output_type": "execute_result"
    }
   ],
   "source": [
    "unique_animals = len(intakes['animal_id'].unique())\n",
    "total_intakes = len(intakes)\n",
    "repeat_animals = total_intakes - unique_animals\n",
    "\n",
    "most_common_animal_id = intakes['animal_id'].value_counts().head(1).keys().tolist()\n",
    "most_common_animal = intakes.loc[intakes['animal_id'] == most_common_animal_id[0]].head(1)\n",
    "\n",
    "\n",
    "print(f'''\n",
    "************************\n",
    "There are {repeat_animals} animals that are repeat visitors. The shelters frequent flyer is:\\n\n",
    "{most_common_animal['name'].to_string(index=False)}\n",
    "{most_common_animal['breed'].to_string(index=False)}\n",
    "{most_common_animal['color'].to_string(index=False)}\n",
    "*************************\n",
    "''')\n",
    "\n",
    "most_common_animal"
   ]
  },
  {
   "cell_type": "markdown",
   "id": "ddc1c940",
   "metadata": {},
   "source": [
    " # What are the adoption rates for the following age groups?\n",
    "     baby: 4 months and less\n",
    "    young: 5 months - 2 years\n",
    "    adult: 3 years - 10 years\n",
    "    senior: 11+"
   ]
  },
  {
   "cell_type": "markdown",
   "id": "3fd4b64d",
   "metadata": {},
   "source": [
    "# If spay/neuter for a dog costs 100 and a spay/neuter for a cat costs 50, how much did the shelter spend in 2015 on these procedures?"
   ]
  },
  {
   "cell_type": "code",
   "execution_count": null,
   "id": "0da4342d",
   "metadata": {},
   "outputs": [],
   "source": []
  },
  {
   "cell_type": "code",
   "execution_count": null,
   "id": "d2d98c24",
   "metadata": {},
   "outputs": [],
   "source": []
  }
 ],
 "metadata": {
  "kernelspec": {
   "display_name": "Python 3 (ipykernel)",
   "language": "python",
   "name": "python3"
  },
  "language_info": {
   "codemirror_mode": {
    "name": "ipython",
    "version": 3
   },
   "file_extension": ".py",
   "mimetype": "text/x-python",
   "name": "python",
   "nbconvert_exporter": "python",
   "pygments_lexer": "ipython3",
   "version": "3.9.13"
  }
 },
 "nbformat": 4,
 "nbformat_minor": 5
}
