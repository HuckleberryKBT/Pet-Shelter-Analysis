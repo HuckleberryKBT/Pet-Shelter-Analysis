{
 "cells": [
  {
   "cell_type": "code",
   "execution_count": 1,
   "id": "40e053db",
   "metadata": {},
   "outputs": [],
   "source": [
    "import pandas as pd\n",
    "import numpy as np\n",
    "intakes = pd.read_csv('aac_intakes.csv')\n",
    "outcomes = pd.read_csv('aac_outcomes.csv')\n",
    "intakes_outcomes = pd.read_csv('aac_intakes_outcomes.csv')"
   ]
  },
  {
   "cell_type": "markdown",
   "id": "d47f681a",
   "metadata": {},
   "source": [
    "# Is there an area where more pets are found?\n",
    "Used the mode function here to find the most common value in the found_location series"
   ]
  },
  {
   "cell_type": "code",
   "execution_count": 192,
   "id": "387211fa",
   "metadata": {},
   "outputs": [],
   "source": [
    "most_common_area = intakes['found_location'].mode()\n",
    "most_common_areas_keys = intakes['found_location'].value_counts().head(5).keys().tolist()\n",
    "most_common_areas = intakes['found_location'].value_counts().head(5).tolist()\n"
   ]
  },
  {
   "cell_type": "markdown",
   "id": "b8767d4c",
   "metadata": {},
   "source": [
    "*******************************************************\n",
    "> ### Most animals are found within the shelters city limits of Austin, a more specific location where the most animals are found is at 7201 Levander Loop. \n",
    "> The top 5 locations that animals are found:\n",
    ">1. Austin, TX\n",
    ">2. Outside Jurisdiction\n",
    ">3. Travis, TX\n",
    ">4. 7201 Levander Loop in Austin\n",
    ">5. Del Valle, TX\n",
    "*******\n",
    "\n",
    "Idetermined where pets are found most by using the mode method on the 'found location' column.\n",
    "I used the value_counts method along with the head method to get the top 5 most common values in the 'found location' column\n"
   ]
  },
  {
   "cell_type": "markdown",
   "id": "8f840954",
   "metadata": {},
   "source": [
    "# What is the average number of pets found in a month in the year 2015? Are there months where there is a higher number of animals found?"
   ]
  },
  {
   "cell_type": "code",
   "execution_count": 165,
   "id": "b679cfd0",
   "metadata": {},
   "outputs": [],
   "source": [
    "intakes['datetime'] = pd.to_datetime(intakes['datetime'])\n",
    "intakes['datetime2'] = pd.to_datetime(intakes['datetime2'])\n",
    "sum_total_intakes_2015 = (intakes['datetime'].dt.year == 2015).sum()\n",
    "## avg nymber of intakes per month\n",
    "avg_per_month = (sum_total_intakes_2015/12)\n",
    "\n",
    "\n",
    "total_intakes_2015 = intakes.loc[intakes['datetime'].dt.year == 2015]\n",
    "months = total_intakes_2015['datetime'].dt.month.value_counts().sort_values(ascending=False)\n"
   ]
  },
  {
   "cell_type": "markdown",
   "id": "732d16b0",
   "metadata": {},
   "source": [
    "*****\n",
    "> ### The average number of pets found per month in 2015 was 1559.0, with May, June, & October being the busiest months\n",
    "******\n",
    "\n",
    "Cleaned datetime columns. Queried intakes by year 2015 and used sum method to get the total. To get the average number per month I divided the annual intake by 12. Utilized value_counts method to count the number of intakes per month and see which where the highest."
   ]
  },
  {
   "cell_type": "markdown",
   "id": "f5a1ddaf",
   "metadata": {},
   "source": [
    "# What is the ratio of incoming pets vs. adopted pets?"
   ]
  },
  {
   "cell_type": "code",
   "execution_count": 166,
   "id": "bd312193",
   "metadata": {},
   "outputs": [],
   "source": [
    "adopted_count = (outcomes['outcome_type'] == 'Adoption').sum()\n",
    "intakes_count = len(intakes)\n",
    "ratio = (adopted_count/intakes_count).round(4) \n",
    "ratio = ratio * 100"
   ]
  },
  {
   "cell_type": "markdown",
   "id": "c9577631",
   "metadata": {},
   "source": [
    "********\n",
    "> ### 42.69% of incoming pets result in adoption.\n",
    "********\n",
    "Queryd the option table to see how many outcomes resulted in adoption.\n",
    "Got the length of the intake table.\n",
    "Divided total adoptions by total intakes and multiplied by 100 to get the percentage of intakes that result in adoptions"
   ]
  },
  {
   "cell_type": "markdown",
   "id": "3f7f8355",
   "metadata": {},
   "source": [
    "# What is the distribution of the types of animals in the shelter?"
   ]
  },
  {
   "cell_type": "code",
   "execution_count": 167,
   "id": "388d520d",
   "metadata": {},
   "outputs": [],
   "source": [
    "total_animals = len(intakes)\n",
    "# What you're looking for\n",
    "keys = intakes['animal_type'].value_counts().keys().tolist()\n",
    "values = intakes['animal_type'].value_counts()\n",
    "animal_ratio = (values.divide(total_animals) * 100).round(2)\n",
    "# print(f''''\n",
    "# ***************************\n",
    "# Animal Distribution by type\n",
    "# ***************************\n",
    "# Type - Quantity - Percent\n",
    "# ''')\n",
    "# for i,row in enumerate(keys):\n",
    "#     print('--------------------')\n",
    "#     print(f'{row} - {values[i]} - {animal_ratio[i]}%')"
   ]
  },
  {
   "cell_type": "markdown",
   "id": "d852de70",
   "metadata": {},
   "source": [
    "***************************\n",
    "> ### Animal Distribution by type\n",
    "> 1. Dog - 45,743 - 57.05%\n",
    "> 2. Cat - 29,659 - 36.99%\n",
    "> 3. Other - 4434 - 5.53%\n",
    "> 4. Bird - 342 - 0.43%\n",
    "> 5. Livestock - 9 - 0.01%\n",
    "***************************\n",
    "\n",
    "I utilized the value_counts method here to group the intakes table by animal type and count the number of occurences\n",
    "used the pandas divide function to broadcast the division by total animals across the entire series\n",
    "looped over rows to find correlating qty and ratio data"
   ]
  },
  {
   "cell_type": "markdown",
   "id": "b6cf2d24",
   "metadata": {},
   "source": [
    "# What are the adoption rates for specific breeds? "
   ]
  },
  {
   "cell_type": "code",
   "execution_count": 169,
   "id": "c40c29c9",
   "metadata": {
    "scrolled": true
   },
   "outputs": [],
   "source": [
    "adoptions = outcomes.loc[outcomes['outcome_type'] == 'Adoption']\n",
    "breeds_adopted = adoptions['breed'].value_counts().head(5).keys()\n",
    "qty_adoptions_per_breed = adoptions['breed'].value_counts().head(5)\n",
    "adoption_ratio_by_breed = (qty_adoptions_per_breed/len(adoptions) * 100).round(2)\n",
    "# print(f''''\n",
    "# ***************************\n",
    "# Adoption rates by breed\n",
    "# ***************************\n",
    "# Breed - Quantity - Percentage\n",
    "# ''')\n",
    "# for i,row in enumerate(breeds_adopted):\n",
    "#     print('--------------------')\n",
    "#     print(f'{row} - {qty_adoptions_per_breed[i]} - {adoption_ratio_by_breed[i]}%')\n"
   ]
  },
  {
   "cell_type": "markdown",
   "id": "a23d7985",
   "metadata": {},
   "source": [
    "***************************\n",
    "> ### Adoption rates by breed\n",
    "> 1. Domestic Shorthair Mix - 10,129 - 29.59%\n",
    "> 2. Labrador Retriever Mix - 2,404 - 7.02%\n",
    "> 3. Pit Bull Mix - 2,382 - 6.96%\n",
    "> 4. Cihuahua Shorthair Mix - 2,293 - 6.7%\n",
    "> 5. Domestic Medium Hair Mix - 1,067 - 3.12%\n",
    "***************************\n",
    "Used the value counts and head methods again to find the top 5 breeds with the the outcome of adoption"
   ]
  },
  {
   "cell_type": "markdown",
   "id": "fade946b",
   "metadata": {},
   "source": [
    "# What are the  adoption rates for different colorings? "
   ]
  },
  {
   "cell_type": "code",
   "execution_count": 178,
   "id": "75aa5bfd",
   "metadata": {},
   "outputs": [],
   "source": [
    "adoptions_by_coloring = adoptions['color'].value_counts().head(5).keys()\n",
    "qty_adoptions_per_color = adoptions['color'].value_counts().head(5)\n",
    "adoption_ratio_by_color = (qty_adoptions_per_color/len(adoptions) * 100).round(2)\n",
    "# print(f''''\n",
    "# ***************************\n",
    "# Adoption rates by breed\n",
    "# ***************************\n",
    "# Color - Quantity - Percentage\n",
    "# ''')\n",
    "# for i,row in enumerate(adoptions_by_coloring):\n",
    "#     print('--------------------')\n",
    "#     print(f'{row} - {qty_adoptions_per_color[i]} - {adoption_ratio_by_color[i]}%')"
   ]
  },
  {
   "cell_type": "markdown",
   "id": "165ddd02",
   "metadata": {},
   "source": [
    "***************************\n",
    "> ### Adoption rates by breed\n",
    "Color - Quantity - Percentage\n",
    "> 1. Black/White - 3814 - 11.14%\n",
    "> 2. Black - 2757 - 8.05%\n",
    "> 3. Brown Tabby - 1914 - 5.59%\n",
    "> 4. Tan/White - 1179 - 3.44%\n",
    "> 5. Brown/White - 1135 - 3.32%\n",
    "***************************\n",
    "Utilized the value_counts method  to find the 5 most adoptions by color, and divided by total adoptions to get the ratio of adoptions by color"
   ]
  },
  {
   "cell_type": "markdown",
   "id": "bd670a04",
   "metadata": {},
   "source": [
    "# About how many animals are spayed/neutered each month? \n"
   ]
  },
  {
   "cell_type": "code",
   "execution_count": 180,
   "id": "800319d4",
   "metadata": {},
   "outputs": [],
   "source": [
    "intact_intakes = len(intakes.loc[(intakes['sex_upon_intake'] == 'Intact Female') | (intakes['sex_upon_intake'] == 'Intact Male')])\n",
    "years = len(intakes['datetime'].dt.year.unique())\n",
    "avg_yearly_procedures = np.round(intact_intakes/years)\n",
    "avg_monthly_procedures = np.round(avg_yearly_procedures/12)\n"
   ]
  },
  {
   "cell_type": "markdown",
   "id": "128257da",
   "metadata": {},
   "source": [
    "************************\n",
    "> ### Over the last 6 years, the Austin Animal Hospital spayed or neutered 685.0 animals per month on average.\n",
    "*************************\n",
    "Analyzed total intakes with intact males or females\n",
    "Got the amount of unique years in the data yet\n",
    "divided total intakes by years\n",
    "divided total procedures per year by 12\n",
    "results avg monthly procedures of 685\n"
   ]
  },
  {
   "cell_type": "markdown",
   "id": "ad5db129",
   "metadata": {},
   "source": [
    "# How many animals in the shelter are repeats? Which animal was returned to the shelter the most?"
   ]
  },
  {
   "cell_type": "code",
   "execution_count": 181,
   "id": "4938894a",
   "metadata": {
    "scrolled": false
   },
   "outputs": [],
   "source": [
    "unique_animals = len(intakes['animal_id'].unique())\n",
    "total_intakes = len(intakes)\n",
    "repeat_animals = total_intakes - unique_animals\n",
    "\n",
    "most_common_animal_id = intakes['animal_id'].value_counts().head(1).keys().tolist()\n",
    "most_common_animal = intakes.loc[intakes['animal_id'] == most_common_animal_id[0]].head(1)\n",
    "\n",
    "\n",
    "# print(f'''\n",
    "# ************************\n",
    "# There are {repeat_animals} animals that are repeat visitors.\\n\\nThe shelters frequent flyer is:\\n\n",
    "# Pets name: {most_common_animal['name'].to_string(index=False)}\n",
    "# Breed: {most_common_animal['breed'].to_string(index=False)}\n",
    "# Color: {most_common_animal['color'].to_string(index=False)}\n",
    "# *************************\n",
    "# ''')\n"
   ]
  },
  {
   "cell_type": "markdown",
   "id": "56deb283",
   "metadata": {},
   "source": [
    "************************\n",
    "> ### There are 7822 animals that are repeat visitors.\n",
    "\n",
    ">The shelters frequent flyer is:\n",
    "> - Pets name: Lil Bit\n",
    "> - Breed: Rat Terrier Mix\n",
    "> - Color: Tricolor/Brown Brindle\n",
    "*************************\n",
    "\n",
    "To find the number of repeat visitors I first found the number of unique animal IDs. Then I subtracted the total unique animal ids by the total intakes to determine how many animals were repeats. To find the most common animal I used value_counts on the animal ID column to find which animal had the most intakes"
   ]
  },
  {
   "cell_type": "markdown",
   "id": "ddc1c940",
   "metadata": {},
   "source": [
    " # What are the adoption rates for the following age groups?\n",
    "     baby: 4 months and less\n",
    "    young: 5 months - 2 years\n",
    "    adult: 3 years - 10 years\n",
    "    senior: 11+"
   ]
  },
  {
   "cell_type": "code",
   "execution_count": 189,
   "id": "1a2f8957",
   "metadata": {},
   "outputs": [],
   "source": [
    "age_keys = adoptions['age_upon_outcome'].value_counts().keys().tolist()\n",
    "age_at_adoption = adoptions['age_upon_outcome'].value_counts().to_list()\n",
    "age_in_months = []\n",
    "baby = 0\n",
    "young = 0\n",
    "adult = 0\n",
    "senior = 0\n",
    "unknown = 0\n",
    "\n",
    "for item in age_keys:\n",
    "    split_str = item.split(' ')\n",
    "    months = int(split_str[0])\n",
    "    if 'year' in split_str[1]:\n",
    "        age_in_months.append(months * 12)\n",
    "    else:\n",
    "        age_in_months.append(months)\n",
    "\n",
    "for i,row in enumerate(age_in_months):\n",
    "    if row == 0:\n",
    "        unknown += age_at_adoption[i]\n",
    "    elif row <= 4:\n",
    "        baby += age_at_adoption[i]\n",
    "        # went to 35 months here to include animals up to the age of 2 years 11 months\n",
    "    elif row >=5 and row <= 35:\n",
    "        young +=  age_at_adoption[i]\n",
    "        # went to 131 months here to include animals up to the age of 10 years 11 months\n",
    "    elif row >= 36 and row <= 131:\n",
    "        adult += age_at_adoption[i]\n",
    "    elif row >= 132:\n",
    "        senior += age_at_adoption[i]\n",
    "baby,young,adult,senior,unknown\n",
    "baby_ratio = np.round(baby/len(adoptions)*100)\n",
    "young_ratio = np.round(young/len(adoptions)*100)\n",
    "adult_ratio = np.round(adult/len(adoptions)*100)\n",
    "senior_ratio = np.round(senior/len(adoptions)*100)\n",
    "unknown_ratio = np.round(unknown/len(adoptions)*100)\n",
    "# print(f'''\n",
    "# ***********\n",
    "# Adoption by age group\n",
    "# ***********************\n",
    "# Age -- Qty -- Ratio\n",
    "\n",
    "\n",
    "# 0 - 4 months: {baby} - {baby_ratio}%\n",
    "# 5 months - 2 years: {young} - {young_ratio}%\n",
    "# 3 years - 10 years: {adult} - {adult_ratio}%\n",
    "# 11 years+ : {senior} - {senior_ratio}%\n",
    "# ''')"
   ]
  },
  {
   "cell_type": "markdown",
   "id": "9e4472c0",
   "metadata": {},
   "source": [
    "***********\n",
    "> ### Adoption by age group\n",
    "\n",
    "> Age    -     Qty    -    Ratio\n",
    "\n",
    "> - [0 - 4 months]: -- 12,811 -- 37.0%\n",
    "> - [5 months - 2 years]: --  14780  --  43.0%\n",
    "> - [3 years - 10 years]: -- 6176 --18.0%\n",
    "> - [11 years+]: -- 461 -- 1.0%\n",
    "***********************\n",
    "- used value_counts to get the unique age value and quantity.\n",
    "- converted years to months.\n",
    "- compared each rows number of months to supplied ages.\n",
    "- added row value to existing variable if it was a match .\n",
    "- calculated percentages based on number of adoptions for that age divided by total adoptions."
   ]
  },
  {
   "cell_type": "markdown",
   "id": "3fd4b64d",
   "metadata": {},
   "source": [
    "# If spay/neuter for a dog costs 100 and a spay/neuter for a cat costs 50, how much did the shelter spend in 2015 on these procedures?"
   ]
  },
  {
   "cell_type": "code",
   "execution_count": 190,
   "id": "0da4342d",
   "metadata": {},
   "outputs": [
    {
     "data": {
      "text/plain": [
       "863250"
      ]
     },
     "execution_count": 190,
     "metadata": {},
     "output_type": "execute_result"
    }
   ],
   "source": [
    "total_procedures_2015 = total_intakes_2015.loc[(total_intakes_2015['sex_upon_intake'] == 'Intact Male') | (total_intakes_2015['sex_upon_intake'] == 'Intact Female')  ]\n",
    "dogs = total_procedures_2015.loc[total_procedures_2015['animal_type'] == 'Dog']\n",
    "cats = total_procedures_2015.loc[total_procedures_2015['animal_type'] == 'Cat']\n",
    "dogs_cost = len(dogs) * 100\n",
    "cats_cost = len(cats) * 50\n",
    "total_procedures_cost_2015 = dogs_cost + cats_cost\n",
    "total_procedures_cost_2015"
   ]
  },
  {
   "cell_type": "markdown",
   "id": "7979d426",
   "metadata": {},
   "source": [
    "\n",
    "************************\n",
    "> ### The Austin Animal Hospital spent $863,250 on spay/neuter procedures in 2015.\n",
    "*************************\n",
    " - Queried 2015 intakes to determine how many were not already spayed/neutered.\n",
    " - filtered by dogs, cats\n",
    " - multiplied values by associated cost for procedure\n",
    " - added cost for cats and dogs to determine total cost for the animal hospital in 2015\n"
   ]
  }
 ],
 "metadata": {
  "kernelspec": {
   "display_name": "Python 3 (ipykernel)",
   "language": "python",
   "name": "python3"
  },
  "language_info": {
   "codemirror_mode": {
    "name": "ipython",
    "version": 3
   },
   "file_extension": ".py",
   "mimetype": "text/x-python",
   "name": "python",
   "nbconvert_exporter": "python",
   "pygments_lexer": "ipython3",
   "version": "3.9.13"
  }
 },
 "nbformat": 4,
 "nbformat_minor": 5
}
